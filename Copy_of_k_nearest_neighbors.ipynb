{
  "nbformat": 4,
  "nbformat_minor": 0,
  "metadata": {
    "colab": {
      "name": "Copy of k_nearest_neighbors.ipynb",
      "provenance": [],
      "collapsed_sections": [],
      "toc_visible": true,
      "machine_shape": "hm"
    },
    "kernelspec": {
      "name": "python3",
      "display_name": "Python 3"
    }
  },
  "cells": [
    {
      "cell_type": "markdown",
      "metadata": {
        "id": "0MRC0e0KhQ0S",
        "colab_type": "text"
      },
      "source": [
        "# K-Nearest Neighbors (K-NN)"
      ]
    },
    {
      "cell_type": "markdown",
      "metadata": {
        "id": "LWd1UlMnhT2s",
        "colab_type": "text"
      },
      "source": [
        "## Importing the libraries"
      ]
    },
    {
      "cell_type": "code",
      "metadata": {
        "id": "04-C0Lbfr5K6",
        "colab_type": "code",
        "colab": {}
      },
      "source": [
        "import pandas as pd\n",
        "import numpy as np\n",
        "import matplotlib.pyplot as plt"
      ],
      "execution_count": 1,
      "outputs": []
    },
    {
      "cell_type": "markdown",
      "metadata": {
        "id": "K1VMqkGvhc3-",
        "colab_type": "text"
      },
      "source": [
        "## Importing the dataset"
      ]
    },
    {
      "cell_type": "code",
      "metadata": {
        "id": "A-SrQQGAsBpE",
        "colab_type": "code",
        "colab": {}
      },
      "source": [
        "data_set = pd.read_csv('/content/Social_Network_Ads.csv')\n",
        "x=data_set.iloc[:,:-1].values\n",
        "y=data_set.iloc[:,-1].values"
      ],
      "execution_count": 2,
      "outputs": []
    },
    {
      "cell_type": "markdown",
      "metadata": {
        "id": "YvxIPVyMhmKp",
        "colab_type": "text"
      },
      "source": [
        "## Splitting the dataset into the Training set and Test set"
      ]
    },
    {
      "cell_type": "code",
      "metadata": {
        "id": "RJMecacEsg01",
        "colab_type": "code",
        "colab": {}
      },
      "source": [
        "from sklearn.model_selection import train_test_split\n",
        "xtrain,xtest,ytrain,ytest = train_test_split(x,y,test_size=0.2,random_state=0)"
      ],
      "execution_count": 4,
      "outputs": []
    },
    {
      "cell_type": "markdown",
      "metadata": {
        "id": "kW3c7UYih0hT",
        "colab_type": "text"
      },
      "source": [
        "## Feature Scaling"
      ]
    },
    {
      "cell_type": "code",
      "metadata": {
        "id": "dmJL12QCtB-V",
        "colab_type": "code",
        "colab": {}
      },
      "source": [
        "from sklearn.preprocessing import StandardScaler\n",
        "sc=StandardScaler()\n",
        "xtrain = sc.fit_transform(xtrain)\n",
        "xtest = sc.transform(xtest)"
      ],
      "execution_count": 5,
      "outputs": []
    },
    {
      "cell_type": "markdown",
      "metadata": {
        "id": "bb6jCOCQiAmP",
        "colab_type": "text"
      },
      "source": [
        "## Training the K-NN model on the Training set"
      ]
    },
    {
      "cell_type": "code",
      "metadata": {
        "id": "wLoT9XTttYw6",
        "colab_type": "code",
        "colab": {
          "base_uri": "https://localhost:8080/",
          "height": 72
        },
        "outputId": "38595371-6c78-4d66-ebb9-6fa1f18a69ff"
      },
      "source": [
        "from sklearn.neighbors import KNeighborsClassifier\n",
        "classifier = KNeighborsClassifier(n_neighbors=5,metric='minkowski',p=2) #minkowski is for finding distance and p=2 so that the distance is calculated like euclidean\n",
        "classifier.fit(xtrain,ytrain)"
      ],
      "execution_count": 10,
      "outputs": [
        {
          "output_type": "execute_result",
          "data": {
            "text/plain": [
              "KNeighborsClassifier(algorithm='auto', leaf_size=30, metric='minkowski',\n",
              "                     metric_params=None, n_jobs=None, n_neighbors=5, p=2,\n",
              "                     weights='uniform')"
            ]
          },
          "metadata": {
            "tags": []
          },
          "execution_count": 10
        }
      ]
    },
    {
      "cell_type": "markdown",
      "metadata": {
        "id": "yyxW5b395mR2",
        "colab_type": "text"
      },
      "source": [
        "## Predicting a new result"
      ]
    },
    {
      "cell_type": "code",
      "metadata": {
        "id": "2ok7IMpvuh6h",
        "colab_type": "code",
        "colab": {
          "base_uri": "https://localhost:8080/",
          "height": 35
        },
        "outputId": "fc980b7e-73d1-48b2-df76-68019a63ef0d"
      },
      "source": [
        "classifier.predict(sc.transform([[30,87000]]))"
      ],
      "execution_count": 11,
      "outputs": [
        {
          "output_type": "execute_result",
          "data": {
            "text/plain": [
              "array([0])"
            ]
          },
          "metadata": {
            "tags": []
          },
          "execution_count": 11
        }
      ]
    },
    {
      "cell_type": "markdown",
      "metadata": {
        "id": "vKYVQH-l5NpE",
        "colab_type": "text"
      },
      "source": [
        "## Predicting the Test set results"
      ]
    },
    {
      "cell_type": "code",
      "metadata": {
        "id": "p2ADBWBqusKJ",
        "colab_type": "code",
        "colab": {}
      },
      "source": [
        "ypred = classifier.predict(xtest)"
      ],
      "execution_count": 12,
      "outputs": []
    },
    {
      "cell_type": "markdown",
      "metadata": {
        "id": "h4Hwj34ziWQW",
        "colab_type": "text"
      },
      "source": [
        "## Making the Confusion Matrix"
      ]
    },
    {
      "cell_type": "code",
      "metadata": {
        "id": "woYkbLVQuz1K",
        "colab_type": "code",
        "colab": {
          "base_uri": "https://localhost:8080/",
          "height": 54
        },
        "outputId": "6382c1fa-9acc-4059-e551-6d1f30f8ba20"
      },
      "source": [
        "from sklearn.metrics import accuracy_score,confusion_matrix\n",
        "cm=confusion_matrix\n",
        "print(cm(ypred,ytest))"
      ],
      "execution_count": 14,
      "outputs": [
        {
          "output_type": "stream",
          "text": [
            "[[55  1]\n",
            " [ 3 21]]\n"
          ],
          "name": "stdout"
        }
      ]
    },
    {
      "cell_type": "code",
      "metadata": {
        "id": "anIAkdVavSYf",
        "colab_type": "code",
        "colab": {
          "base_uri": "https://localhost:8080/",
          "height": 35
        },
        "outputId": "e01e4417-b1a7-40d4-9669-17d46dec0eca"
      },
      "source": [
        "print(accuracy_score(ytest,ypred))"
      ],
      "execution_count": 15,
      "outputs": [
        {
          "output_type": "stream",
          "text": [
            "0.95\n"
          ],
          "name": "stdout"
        }
      ]
    },
    {
      "cell_type": "code",
      "metadata": {
        "id": "j0oWZ88avb2o",
        "colab_type": "code",
        "colab": {}
      },
      "source": [
        "min1,max1=x[:,0].min()-1,x[:,0].max()+1\n",
        "min2,max2=x[:,1].min()-1,x[:,1].max()+1"
      ],
      "execution_count": 50,
      "outputs": []
    },
    {
      "cell_type": "code",
      "metadata": {
        "id": "fHFOotbmv2LT",
        "colab_type": "code",
        "colab": {}
      },
      "source": [
        "x1_scale = np.arange(min1,max1,0.1)  #list of 440\n",
        "x2_scale = np.arange(min2,max2,100)  #list of 1351 #as salaries are higher can take 100 interval"
      ],
      "execution_count": 51,
      "outputs": []
    },
    {
      "cell_type": "code",
      "metadata": {
        "id": "Jc6aeF6dyXzj",
        "colab_type": "code",
        "colab": {
          "base_uri": "https://localhost:8080/",
          "height": 617
        },
        "outputId": "365707b9-0e83-40d5-e927-04f57f5baadd"
      },
      "source": [
        "print(x1_scale.shape)\n",
        "print(x1_scale)"
      ],
      "execution_count": 52,
      "outputs": [
        {
          "output_type": "stream",
          "text": [
            "(440,)\n",
            "[17.  17.1 17.2 17.3 17.4 17.5 17.6 17.7 17.8 17.9 18.  18.1 18.2 18.3\n",
            " 18.4 18.5 18.6 18.7 18.8 18.9 19.  19.1 19.2 19.3 19.4 19.5 19.6 19.7\n",
            " 19.8 19.9 20.  20.1 20.2 20.3 20.4 20.5 20.6 20.7 20.8 20.9 21.  21.1\n",
            " 21.2 21.3 21.4 21.5 21.6 21.7 21.8 21.9 22.  22.1 22.2 22.3 22.4 22.5\n",
            " 22.6 22.7 22.8 22.9 23.  23.1 23.2 23.3 23.4 23.5 23.6 23.7 23.8 23.9\n",
            " 24.  24.1 24.2 24.3 24.4 24.5 24.6 24.7 24.8 24.9 25.  25.1 25.2 25.3\n",
            " 25.4 25.5 25.6 25.7 25.8 25.9 26.  26.1 26.2 26.3 26.4 26.5 26.6 26.7\n",
            " 26.8 26.9 27.  27.1 27.2 27.3 27.4 27.5 27.6 27.7 27.8 27.9 28.  28.1\n",
            " 28.2 28.3 28.4 28.5 28.6 28.7 28.8 28.9 29.  29.1 29.2 29.3 29.4 29.5\n",
            " 29.6 29.7 29.8 29.9 30.  30.1 30.2 30.3 30.4 30.5 30.6 30.7 30.8 30.9\n",
            " 31.  31.1 31.2 31.3 31.4 31.5 31.6 31.7 31.8 31.9 32.  32.1 32.2 32.3\n",
            " 32.4 32.5 32.6 32.7 32.8 32.9 33.  33.1 33.2 33.3 33.4 33.5 33.6 33.7\n",
            " 33.8 33.9 34.  34.1 34.2 34.3 34.4 34.5 34.6 34.7 34.8 34.9 35.  35.1\n",
            " 35.2 35.3 35.4 35.5 35.6 35.7 35.8 35.9 36.  36.1 36.2 36.3 36.4 36.5\n",
            " 36.6 36.7 36.8 36.9 37.  37.1 37.2 37.3 37.4 37.5 37.6 37.7 37.8 37.9\n",
            " 38.  38.1 38.2 38.3 38.4 38.5 38.6 38.7 38.8 38.9 39.  39.1 39.2 39.3\n",
            " 39.4 39.5 39.6 39.7 39.8 39.9 40.  40.1 40.2 40.3 40.4 40.5 40.6 40.7\n",
            " 40.8 40.9 41.  41.1 41.2 41.3 41.4 41.5 41.6 41.7 41.8 41.9 42.  42.1\n",
            " 42.2 42.3 42.4 42.5 42.6 42.7 42.8 42.9 43.  43.1 43.2 43.3 43.4 43.5\n",
            " 43.6 43.7 43.8 43.9 44.  44.1 44.2 44.3 44.4 44.5 44.6 44.7 44.8 44.9\n",
            " 45.  45.1 45.2 45.3 45.4 45.5 45.6 45.7 45.8 45.9 46.  46.1 46.2 46.3\n",
            " 46.4 46.5 46.6 46.7 46.8 46.9 47.  47.1 47.2 47.3 47.4 47.5 47.6 47.7\n",
            " 47.8 47.9 48.  48.1 48.2 48.3 48.4 48.5 48.6 48.7 48.8 48.9 49.  49.1\n",
            " 49.2 49.3 49.4 49.5 49.6 49.7 49.8 49.9 50.  50.1 50.2 50.3 50.4 50.5\n",
            " 50.6 50.7 50.8 50.9 51.  51.1 51.2 51.3 51.4 51.5 51.6 51.7 51.8 51.9\n",
            " 52.  52.1 52.2 52.3 52.4 52.5 52.6 52.7 52.8 52.9 53.  53.1 53.2 53.3\n",
            " 53.4 53.5 53.6 53.7 53.8 53.9 54.  54.1 54.2 54.3 54.4 54.5 54.6 54.7\n",
            " 54.8 54.9 55.  55.1 55.2 55.3 55.4 55.5 55.6 55.7 55.8 55.9 56.  56.1\n",
            " 56.2 56.3 56.4 56.5 56.6 56.7 56.8 56.9 57.  57.1 57.2 57.3 57.4 57.5\n",
            " 57.6 57.7 57.8 57.9 58.  58.1 58.2 58.3 58.4 58.5 58.6 58.7 58.8 58.9\n",
            " 59.  59.1 59.2 59.3 59.4 59.5 59.6 59.7 59.8 59.9 60.  60.1 60.2 60.3\n",
            " 60.4 60.5 60.6 60.7 60.8 60.9]\n"
          ],
          "name": "stdout"
        }
      ]
    },
    {
      "cell_type": "code",
      "metadata": {
        "id": "DeqVxV0rwDhi",
        "colab_type": "code",
        "colab": {
          "base_uri": "https://localhost:8080/",
          "height": 54
        },
        "outputId": "f556ace4-80ac-4a99-a347-f364477294af"
      },
      "source": [
        "print(x2_scale.shape)\n",
        "print(x2_scale)"
      ],
      "execution_count": 53,
      "outputs": [
        {
          "output_type": "stream",
          "text": [
            "(1351,)\n",
            "[ 14999  15099  15199 ... 149799 149899 149999]\n"
          ],
          "name": "stdout"
        }
      ]
    },
    {
      "cell_type": "code",
      "metadata": {
        "id": "-Fe7sH-9wiQc",
        "colab_type": "code",
        "colab": {
          "base_uri": "https://localhost:8080/",
          "height": 54
        },
        "outputId": "c03cf9b8-0c81-4dce-a22e-0fd3eea396bc"
      },
      "source": [
        "x_grid,y_grid = np.meshgrid(x1_scale,x2_scale)\n",
        "print(x_grid.shape)\n",
        "print(y_grid.shape)"
      ],
      "execution_count": 54,
      "outputs": [
        {
          "output_type": "stream",
          "text": [
            "(1351, 440)\n",
            "(1351, 440)\n"
          ],
          "name": "stdout"
        }
      ]
    },
    {
      "cell_type": "code",
      "metadata": {
        "id": "wZDohR5qw0-A",
        "colab_type": "code",
        "colab": {
          "base_uri": "https://localhost:8080/",
          "height": 1000
        },
        "outputId": "c43609c6-86bb-4ca0-e7a9-b14c8412fe31"
      },
      "source": [
        "print(x_grid[0])\n",
        "print(y_grid[0])"
      ],
      "execution_count": 55,
      "outputs": [
        {
          "output_type": "stream",
          "text": [
            "[17.  17.1 17.2 17.3 17.4 17.5 17.6 17.7 17.8 17.9 18.  18.1 18.2 18.3\n",
            " 18.4 18.5 18.6 18.7 18.8 18.9 19.  19.1 19.2 19.3 19.4 19.5 19.6 19.7\n",
            " 19.8 19.9 20.  20.1 20.2 20.3 20.4 20.5 20.6 20.7 20.8 20.9 21.  21.1\n",
            " 21.2 21.3 21.4 21.5 21.6 21.7 21.8 21.9 22.  22.1 22.2 22.3 22.4 22.5\n",
            " 22.6 22.7 22.8 22.9 23.  23.1 23.2 23.3 23.4 23.5 23.6 23.7 23.8 23.9\n",
            " 24.  24.1 24.2 24.3 24.4 24.5 24.6 24.7 24.8 24.9 25.  25.1 25.2 25.3\n",
            " 25.4 25.5 25.6 25.7 25.8 25.9 26.  26.1 26.2 26.3 26.4 26.5 26.6 26.7\n",
            " 26.8 26.9 27.  27.1 27.2 27.3 27.4 27.5 27.6 27.7 27.8 27.9 28.  28.1\n",
            " 28.2 28.3 28.4 28.5 28.6 28.7 28.8 28.9 29.  29.1 29.2 29.3 29.4 29.5\n",
            " 29.6 29.7 29.8 29.9 30.  30.1 30.2 30.3 30.4 30.5 30.6 30.7 30.8 30.9\n",
            " 31.  31.1 31.2 31.3 31.4 31.5 31.6 31.7 31.8 31.9 32.  32.1 32.2 32.3\n",
            " 32.4 32.5 32.6 32.7 32.8 32.9 33.  33.1 33.2 33.3 33.4 33.5 33.6 33.7\n",
            " 33.8 33.9 34.  34.1 34.2 34.3 34.4 34.5 34.6 34.7 34.8 34.9 35.  35.1\n",
            " 35.2 35.3 35.4 35.5 35.6 35.7 35.8 35.9 36.  36.1 36.2 36.3 36.4 36.5\n",
            " 36.6 36.7 36.8 36.9 37.  37.1 37.2 37.3 37.4 37.5 37.6 37.7 37.8 37.9\n",
            " 38.  38.1 38.2 38.3 38.4 38.5 38.6 38.7 38.8 38.9 39.  39.1 39.2 39.3\n",
            " 39.4 39.5 39.6 39.7 39.8 39.9 40.  40.1 40.2 40.3 40.4 40.5 40.6 40.7\n",
            " 40.8 40.9 41.  41.1 41.2 41.3 41.4 41.5 41.6 41.7 41.8 41.9 42.  42.1\n",
            " 42.2 42.3 42.4 42.5 42.6 42.7 42.8 42.9 43.  43.1 43.2 43.3 43.4 43.5\n",
            " 43.6 43.7 43.8 43.9 44.  44.1 44.2 44.3 44.4 44.5 44.6 44.7 44.8 44.9\n",
            " 45.  45.1 45.2 45.3 45.4 45.5 45.6 45.7 45.8 45.9 46.  46.1 46.2 46.3\n",
            " 46.4 46.5 46.6 46.7 46.8 46.9 47.  47.1 47.2 47.3 47.4 47.5 47.6 47.7\n",
            " 47.8 47.9 48.  48.1 48.2 48.3 48.4 48.5 48.6 48.7 48.8 48.9 49.  49.1\n",
            " 49.2 49.3 49.4 49.5 49.6 49.7 49.8 49.9 50.  50.1 50.2 50.3 50.4 50.5\n",
            " 50.6 50.7 50.8 50.9 51.  51.1 51.2 51.3 51.4 51.5 51.6 51.7 51.8 51.9\n",
            " 52.  52.1 52.2 52.3 52.4 52.5 52.6 52.7 52.8 52.9 53.  53.1 53.2 53.3\n",
            " 53.4 53.5 53.6 53.7 53.8 53.9 54.  54.1 54.2 54.3 54.4 54.5 54.6 54.7\n",
            " 54.8 54.9 55.  55.1 55.2 55.3 55.4 55.5 55.6 55.7 55.8 55.9 56.  56.1\n",
            " 56.2 56.3 56.4 56.5 56.6 56.7 56.8 56.9 57.  57.1 57.2 57.3 57.4 57.5\n",
            " 57.6 57.7 57.8 57.9 58.  58.1 58.2 58.3 58.4 58.5 58.6 58.7 58.8 58.9\n",
            " 59.  59.1 59.2 59.3 59.4 59.5 59.6 59.7 59.8 59.9 60.  60.1 60.2 60.3\n",
            " 60.4 60.5 60.6 60.7 60.8 60.9]\n",
            "[14999 14999 14999 14999 14999 14999 14999 14999 14999 14999 14999 14999\n",
            " 14999 14999 14999 14999 14999 14999 14999 14999 14999 14999 14999 14999\n",
            " 14999 14999 14999 14999 14999 14999 14999 14999 14999 14999 14999 14999\n",
            " 14999 14999 14999 14999 14999 14999 14999 14999 14999 14999 14999 14999\n",
            " 14999 14999 14999 14999 14999 14999 14999 14999 14999 14999 14999 14999\n",
            " 14999 14999 14999 14999 14999 14999 14999 14999 14999 14999 14999 14999\n",
            " 14999 14999 14999 14999 14999 14999 14999 14999 14999 14999 14999 14999\n",
            " 14999 14999 14999 14999 14999 14999 14999 14999 14999 14999 14999 14999\n",
            " 14999 14999 14999 14999 14999 14999 14999 14999 14999 14999 14999 14999\n",
            " 14999 14999 14999 14999 14999 14999 14999 14999 14999 14999 14999 14999\n",
            " 14999 14999 14999 14999 14999 14999 14999 14999 14999 14999 14999 14999\n",
            " 14999 14999 14999 14999 14999 14999 14999 14999 14999 14999 14999 14999\n",
            " 14999 14999 14999 14999 14999 14999 14999 14999 14999 14999 14999 14999\n",
            " 14999 14999 14999 14999 14999 14999 14999 14999 14999 14999 14999 14999\n",
            " 14999 14999 14999 14999 14999 14999 14999 14999 14999 14999 14999 14999\n",
            " 14999 14999 14999 14999 14999 14999 14999 14999 14999 14999 14999 14999\n",
            " 14999 14999 14999 14999 14999 14999 14999 14999 14999 14999 14999 14999\n",
            " 14999 14999 14999 14999 14999 14999 14999 14999 14999 14999 14999 14999\n",
            " 14999 14999 14999 14999 14999 14999 14999 14999 14999 14999 14999 14999\n",
            " 14999 14999 14999 14999 14999 14999 14999 14999 14999 14999 14999 14999\n",
            " 14999 14999 14999 14999 14999 14999 14999 14999 14999 14999 14999 14999\n",
            " 14999 14999 14999 14999 14999 14999 14999 14999 14999 14999 14999 14999\n",
            " 14999 14999 14999 14999 14999 14999 14999 14999 14999 14999 14999 14999\n",
            " 14999 14999 14999 14999 14999 14999 14999 14999 14999 14999 14999 14999\n",
            " 14999 14999 14999 14999 14999 14999 14999 14999 14999 14999 14999 14999\n",
            " 14999 14999 14999 14999 14999 14999 14999 14999 14999 14999 14999 14999\n",
            " 14999 14999 14999 14999 14999 14999 14999 14999 14999 14999 14999 14999\n",
            " 14999 14999 14999 14999 14999 14999 14999 14999 14999 14999 14999 14999\n",
            " 14999 14999 14999 14999 14999 14999 14999 14999 14999 14999 14999 14999\n",
            " 14999 14999 14999 14999 14999 14999 14999 14999 14999 14999 14999 14999\n",
            " 14999 14999 14999 14999 14999 14999 14999 14999 14999 14999 14999 14999\n",
            " 14999 14999 14999 14999 14999 14999 14999 14999 14999 14999 14999 14999\n",
            " 14999 14999 14999 14999 14999 14999 14999 14999 14999 14999 14999 14999\n",
            " 14999 14999 14999 14999 14999 14999 14999 14999 14999 14999 14999 14999\n",
            " 14999 14999 14999 14999 14999 14999 14999 14999 14999 14999 14999 14999\n",
            " 14999 14999 14999 14999 14999 14999 14999 14999 14999 14999 14999 14999\n",
            " 14999 14999 14999 14999 14999 14999 14999 14999]\n"
          ],
          "name": "stdout"
        }
      ]
    },
    {
      "cell_type": "code",
      "metadata": {
        "id": "hAzgV-66ylUr",
        "colab_type": "code",
        "colab": {
          "base_uri": "https://localhost:8080/",
          "height": 90
        },
        "outputId": "d3f8855e-b092-4e60-8f09-e68f6b102739"
      },
      "source": [
        "x_g, y_g = x_grid.flatten(), y_grid.flatten()    #flatten from numpy\n",
        "print(x_g.shape)\n",
        "print(y_g.shape)\n",
        "x_g, y_g = x_g.reshape((len(x_g), 1)), y_g.reshape((len(y_g), 1))    \n",
        "print(x_g.shape)\n",
        "print(y_g.shape)"
      ],
      "execution_count": 56,
      "outputs": [
        {
          "output_type": "stream",
          "text": [
            "(594440,)\n",
            "(594440,)\n",
            "(594440, 1)\n",
            "(594440, 1)\n"
          ],
          "name": "stdout"
        }
      ]
    },
    {
      "cell_type": "code",
      "metadata": {
        "id": "d6kGmDTu0o0j",
        "colab_type": "code",
        "colab": {}
      },
      "source": [
        "grid = np.hstack((x_g, y_g)) #stacking the vectors side-by-side as columns in an input dataset, like the original dataset, but at a much higher resolution.\n"
      ],
      "execution_count": 57,
      "outputs": []
    },
    {
      "cell_type": "code",
      "metadata": {
        "id": "9Yi0zzOa03Qf",
        "colab_type": "code",
        "colab": {}
      },
      "source": [
        "# make predictions for the grid\n",
        "y_pred_2 = classifier.predict(grid)    #this gives 0 or 1\n",
        "\n",
        "#predict the probability of 0 and 1 ex[0.23 0.77] if it  is certain we get [0 1] or [1 0].\n",
        "p_pred = classifier.predict_proba(grid)  #this gives [probability of 0  probability of 1].\n",
        "\n",
        "# keep just the probabilities for class 0\n",
        "p_pred = p_pred[:, 0]         #p_pred will be same length as grid because for each grid value we are getiing probability of being 0 and 1 and we are taking only 0\n",
        "\n",
        "p_pred.shape     #(594440,)\n",
        "pp_pred = p_pred.reshape(x_grid.shape)  #changing this to the grid shape\n"
      ],
      "execution_count": 58,
      "outputs": []
    },
    {
      "cell_type": "code",
      "metadata": {
        "id": "TEClVwu_3zy0",
        "colab_type": "code",
        "colab": {
          "base_uri": "https://localhost:8080/",
          "height": 276
        },
        "outputId": "20202db7-18f5-49ce-c693-92c8554f1439"
      },
      "source": [
        "# plot the grid of x, y and z values as a surface\n",
        "surface = plt.contourf(x_grid, y_grid, pp_pred, cmap='Pastel1')\n",
        "plt.colorbar(surface)\n",
        "\n",
        "# create scatter plot for samples from each class\n",
        "for class_value in range(2):\n",
        "# get row indexes for samples with this class\n",
        "    row_ix = np.where(y == class_value)\n",
        "    # create scatter of these samples\n",
        "    plt.scatter(x[row_ix, 0], x[row_ix, 1], cmap='Pastel1')\n",
        "# show the plot\n",
        "plt.show()\n",
        "\n",
        "\n",
        "#NOT GOOD"
      ],
      "execution_count": 59,
      "outputs": [
        {
          "output_type": "display_data",
          "data": {
            "image/png": "[encoded data removed]",
            "text/plain": [
              "<Figure size 432x288 with 2 Axes>"
            ]
          },
          "metadata": {
            "tags": [],
            "needs_background": "light"
          }
        }
      ]
    },
    {
      "cell_type": "markdown",
      "metadata": {
        "id": "6OMC_P0diaoD",
        "colab_type": "text"
      },
      "source": [
        "## Visualising the Training set results"
      ]
    },
    {
      "cell_type": "code",
      "metadata": {
        "id": "_NOjKvZRid5l",
        "colab_type": "code",
        "colab": {
          "base_uri": "https://localhost:8080/",
          "height": 351
        },
        "outputId": "6ed1ea1c-3e38-47e0-8133-288c04882a85"
      },
      "source": [
        "from matplotlib.colors import ListedColormap\n",
        "X_set, y_set = sc.inverse_transform(xtrain), ytrain\n",
        "X1, X2 = np.meshgrid(np.arange(start = X_set[:, 0].min() - 10, stop = X_set[:, 0].max() + 10, step = 1),\n",
        "                     np.arange(start = X_set[:, 1].min() - 1000, stop = X_set[:, 1].max() + 1000, step = 1))\n",
        "plt.contourf(X1, X2, classifier.predict(sc.transform(np.array([X1.ravel(), X2.ravel()]).T)).reshape(X1.shape),\n",
        "             alpha = 0.75, cmap = ListedColormap(('red', 'green')))\n",
        "#ravel changes 2-D to 1-D likr .reshape(len(),1)\n",
        "#alpha is for transparent background\n",
        "plt.xlim(X1.min(), X1.max())\n",
        "plt.ylim(X2.min(), X2.max())\n",
        "for i, j in enumerate(np.unique(y_set)):\n",
        "    plt.scatter(X_set[y_set == j, 0], X_set[y_set == j, 1], c = ListedColormap(('red', 'green'))(i), label = j)\n",
        "plt.title('K-NN (Training set)')\n",
        "plt.xlabel('Age')\n",
        "plt.ylabel('Estimated Salary')\n",
        "plt.legend()\n",
        "plt.show()"
      ],
      "execution_count": 60,
      "outputs": [
        {
          "output_type": "stream",
          "text": [
            "*c* argument looks like a single numeric RGB or RGBA sequence, which should be avoided as value-mapping will have precedence in case its length matches with *x* & *y*.  Please use the *color* keyword-argument or provide a 2-D array with a single row if you intend to specify the same RGB or RGBA value for all points.\n",
            "*c* argument looks like a single numeric RGB or RGBA sequence, which should be avoided as value-mapping will have precedence in case its length matches with *x* & *y*.  Please use the *color* keyword-argument or provide a 2-D array with a single row if you intend to specify the same RGB or RGBA value for all points.\n"
          ],
          "name": "stderr"
        },
        {
          "output_type": "display_data",
          "data": {
            "image/png": "[encoded data removed]",
            "text/plain": [
              "<Figure size 432x288 with 1 Axes>"
            ]
          },
          "metadata": {
            "tags": [],
            "needs_background": "light"
          }
        }
      ]
    },
    {
      "cell_type": "markdown",
      "metadata": {
        "id": "SZ-j28aPihZx",
        "colab_type": "text"
      },
      "source": [
        "## Visualising the Test set results"
      ]
    },
    {
      "cell_type": "code",
      "metadata": {
        "id": "qeTjz2vDilAC",
        "colab_type": "code",
        "colab": {
          "base_uri": "https://localhost:8080/",
          "height": 349
        },
        "outputId": "a5de62bf-6fc1-4109-8749-0386a57d28e9"
      },
      "source": [
        "from matplotlib.colors import ListedColormap\n",
        "X_set, y_set = sc.inverse_transform(X_test), y_test\n",
        "X1, X2 = np.meshgrid(np.arange(start = X_set[:, 0].min() - 10, stop = X_set[:, 0].max() + 10, step = 1),\n",
        "                     np.arange(start = X_set[:, 1].min() - 1000, stop = X_set[:, 1].max() + 1000, step = 1))\n",
        "plt.contourf(X1, X2, classifier.predict(sc.transform(np.array([X1.ravel(), X2.ravel()]).T)).reshape(X1.shape),\n",
        "             alpha = 0.75, cmap = ListedColormap(('red', 'green')))\n",
        "plt.xlim(X1.min(), X1.max())\n",
        "plt.ylim(X2.min(), X2.max())\n",
        "for i, j in enumerate(np.unique(y_set)):\n",
        "    plt.scatter(X_set[y_set == j, 0], X_set[y_set == j, 1], c = ListedColormap(('red', 'green'))(i), label = j)\n",
        "plt.title('K-NN (Test set)')\n",
        "plt.xlabel('Age')\n",
        "plt.ylabel('Estimated Salary')\n",
        "plt.legend()\n",
        "plt.show()"
      ],
      "execution_count": null,
      "outputs": [
        {
          "output_type": "stream",
          "text": [
            "'c' argument looks like a single numeric RGB or RGBA sequence, which should be avoided as value-mapping will have precedence in case its length matches with 'x' & 'y'.  Please use a 2-D array with a single row if you really want to specify the same RGB or RGBA value for all points.\n",
            "'c' argument looks like a single numeric RGB or RGBA sequence, which should be avoided as value-mapping will have precedence in case its length matches with 'x' & 'y'.  Please use a 2-D array with a single row if you really want to specify the same RGB or RGBA value for all points.\n"
          ],
          "name": "stderr"
        },
        {
          "output_type": "display_data",
          "data": {
            "image/png": "[encoded data removed]",
            "text/plain": [
              "<Figure size 432x288 with 1 Axes>"
            ]
          },
          "metadata": {
            "tags": [],
            "needs_background": "light"
          }
        }
      ]
    }
  ]
}